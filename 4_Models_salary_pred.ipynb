{
 "cells": [
  {
   "cell_type": "markdown",
   "metadata": {},
   "source": [
    "# Model  Selection"
   ]
  },
  {
   "cell_type": "code",
   "execution_count": 2,
   "metadata": {},
   "outputs": [],
   "source": [
    "import sys\n",
    "import pandas as pd\n",
    "import joblib\n",
    "import numpy as np\n",
    "\n",
    "import matplotlib.pyplot as plt\n",
    "import matplotlib.cm as cm\n",
    "import seaborn as sns\n",
    "%matplotlib inline\n",
    "\n",
    "from sklearn.linear_model import LinearRegression\n",
    "from sklearn.preprocessing import PolynomialFeatures\n",
    "from sklearn.model_selection import train_test_split\n",
    "from sklearn.metrics import mean_squared_error\n",
    "from sklearn.model_selection import cross_val_score\n",
    "from sklearn.model_selection import cross_val_predict\n",
    "from sklearn.model_selection import cross_validate\n",
    "from sklearn.model_selection import GridSearchCV\n",
    "\n",
    "from sklearn import tree\n",
    "from sklearn import metrics\n",
    "from sklearn.ensemble import RandomForestRegressor\n",
    "from sklearn.model_selection import RandomizedSearchCV\n",
    "\n",
    "from sklearn.ensemble import GradientBoostingRegressor\n",
    "import xgboost "
   ]
  },
  {
   "cell_type": "code",
   "execution_count": 4,
   "metadata": {},
   "outputs": [],
   "source": [
    "sys.path.append ('./modules') #modules folder contains the helper file(a collection of written fuctions)"
   ]
  },
  {
   "cell_type": "code",
   "execution_count": 17,
   "metadata": {},
   "outputs": [],
   "source": [
    "sys.path.remove ('./modules') #modules folder contains the helper file, see below"
   ]
  },
  {
   "cell_type": "code",
   "execution_count": 5,
   "metadata": {},
   "outputs": [
    {
     "data": {
      "text/plain": [
       "['/mnt/c/users/olatu/documents/ASQsixsigma/DSDJ/Module4ProjectPortfolio/SalaryPredictionProject/salarypredictionportfolio',\n",
       " '/home/tb23unix/anaconda3/lib/python38.zip',\n",
       " '/home/tb23unix/anaconda3/lib/python3.8',\n",
       " '/home/tb23unix/anaconda3/lib/python3.8/lib-dynload',\n",
       " '',\n",
       " '/home/tb23unix/anaconda3/lib/python3.8/site-packages',\n",
       " '/home/tb23unix/anaconda3/lib/python3.8/site-packages/IPython/extensions',\n",
       " '/home/tb23unix/.ipython',\n",
       " './modules']"
      ]
     },
     "execution_count": 5,
     "metadata": {},
     "output_type": "execute_result"
    }
   ],
   "source": [
    "sys.path#modules folder contains the helper file, see below"
   ]
  },
  {
   "cell_type": "code",
   "execution_count": 6,
   "metadata": {},
   "outputs": [],
   "source": [
    "#helper module contains functions created to process the data\n",
    "from helper import poly_reg, num_feat_list, use_data, best_model_mse"
   ]
  },
  {
   "cell_type": "code",
   "execution_count": 7,
   "metadata": {},
   "outputs": [],
   "source": [
    "prepoc_train_data = joblib.load('prepoc_train_data') #loding prepocessed training data"
   ]
  },
  {
   "cell_type": "code",
   "execution_count": 14,
   "metadata": {},
   "outputs": [
    {
     "data": {
      "text/html": [
       "<div>\n",
       "<style scoped>\n",
       "    .dataframe tbody tr th:only-of-type {\n",
       "        vertical-align: middle;\n",
       "    }\n",
       "\n",
       "    .dataframe tbody tr th {\n",
       "        vertical-align: top;\n",
       "    }\n",
       "\n",
       "    .dataframe thead th {\n",
       "        text-align: right;\n",
       "    }\n",
       "</style>\n",
       "<table border=\"1\" class=\"dataframe\">\n",
       "  <thead>\n",
       "    <tr style=\"text-align: right;\">\n",
       "      <th></th>\n",
       "      <th>companyId</th>\n",
       "      <th>jobType</th>\n",
       "      <th>degree</th>\n",
       "      <th>major</th>\n",
       "      <th>industry</th>\n",
       "      <th>yearsExperience</th>\n",
       "      <th>milesFromMetropolis</th>\n",
       "      <th>salary</th>\n",
       "      <th>companyId_cat</th>\n",
       "      <th>jobType_cat</th>\n",
       "      <th>degree_cat</th>\n",
       "      <th>major_cat</th>\n",
       "      <th>industry_cat</th>\n",
       "      <th>yearsExp_cat</th>\n",
       "      <th>mfm_cat</th>\n",
       "    </tr>\n",
       "  </thead>\n",
       "  <tbody>\n",
       "    <tr>\n",
       "      <th>0</th>\n",
       "      <td>COMP37</td>\n",
       "      <td>CFO</td>\n",
       "      <td>MASTERS</td>\n",
       "      <td>MATH</td>\n",
       "      <td>HEALTH</td>\n",
       "      <td>10</td>\n",
       "      <td>83</td>\n",
       "      <td>130</td>\n",
       "      <td>1</td>\n",
       "      <td>6</td>\n",
       "      <td>4</td>\n",
       "      <td>7</td>\n",
       "      <td>4</td>\n",
       "      <td>3</td>\n",
       "      <td>2</td>\n",
       "    </tr>\n",
       "    <tr>\n",
       "      <th>1</th>\n",
       "      <td>COMP19</td>\n",
       "      <td>CEO</td>\n",
       "      <td>HIGH_SCHOOL</td>\n",
       "      <td>NONE</td>\n",
       "      <td>WEB</td>\n",
       "      <td>3</td>\n",
       "      <td>73</td>\n",
       "      <td>101</td>\n",
       "      <td>11</td>\n",
       "      <td>8</td>\n",
       "      <td>2</td>\n",
       "      <td>1</td>\n",
       "      <td>5</td>\n",
       "      <td>1</td>\n",
       "      <td>3</td>\n",
       "    </tr>\n",
       "    <tr>\n",
       "      <th>2</th>\n",
       "      <td>COMP52</td>\n",
       "      <td>VICE_PRESIDENT</td>\n",
       "      <td>DOCTORAL</td>\n",
       "      <td>PHYSICS</td>\n",
       "      <td>HEALTH</td>\n",
       "      <td>10</td>\n",
       "      <td>38</td>\n",
       "      <td>137</td>\n",
       "      <td>43</td>\n",
       "      <td>5</td>\n",
       "      <td>5</td>\n",
       "      <td>5</td>\n",
       "      <td>4</td>\n",
       "      <td>3</td>\n",
       "      <td>7</td>\n",
       "    </tr>\n",
       "    <tr>\n",
       "      <th>3</th>\n",
       "      <td>COMP38</td>\n",
       "      <td>MANAGER</td>\n",
       "      <td>DOCTORAL</td>\n",
       "      <td>CHEMISTRY</td>\n",
       "      <td>AUTO</td>\n",
       "      <td>8</td>\n",
       "      <td>17</td>\n",
       "      <td>142</td>\n",
       "      <td>40</td>\n",
       "      <td>4</td>\n",
       "      <td>5</td>\n",
       "      <td>4</td>\n",
       "      <td>3</td>\n",
       "      <td>2</td>\n",
       "      <td>9</td>\n",
       "    </tr>\n",
       "    <tr>\n",
       "      <th>4</th>\n",
       "      <td>COMP7</td>\n",
       "      <td>VICE_PRESIDENT</td>\n",
       "      <td>BACHELORS</td>\n",
       "      <td>PHYSICS</td>\n",
       "      <td>FINANCE</td>\n",
       "      <td>8</td>\n",
       "      <td>16</td>\n",
       "      <td>163</td>\n",
       "      <td>18</td>\n",
       "      <td>5</td>\n",
       "      <td>3</td>\n",
       "      <td>5</td>\n",
       "      <td>6</td>\n",
       "      <td>2</td>\n",
       "      <td>9</td>\n",
       "    </tr>\n",
       "    <tr>\n",
       "      <th>...</th>\n",
       "      <td>...</td>\n",
       "      <td>...</td>\n",
       "      <td>...</td>\n",
       "      <td>...</td>\n",
       "      <td>...</td>\n",
       "      <td>...</td>\n",
       "      <td>...</td>\n",
       "      <td>...</td>\n",
       "      <td>...</td>\n",
       "      <td>...</td>\n",
       "      <td>...</td>\n",
       "      <td>...</td>\n",
       "      <td>...</td>\n",
       "      <td>...</td>\n",
       "      <td>...</td>\n",
       "    </tr>\n",
       "    <tr>\n",
       "      <th>999995</th>\n",
       "      <td>COMP56</td>\n",
       "      <td>VICE_PRESIDENT</td>\n",
       "      <td>BACHELORS</td>\n",
       "      <td>CHEMISTRY</td>\n",
       "      <td>HEALTH</td>\n",
       "      <td>19</td>\n",
       "      <td>94</td>\n",
       "      <td>88</td>\n",
       "      <td>36</td>\n",
       "      <td>5</td>\n",
       "      <td>3</td>\n",
       "      <td>4</td>\n",
       "      <td>4</td>\n",
       "      <td>5</td>\n",
       "      <td>1</td>\n",
       "    </tr>\n",
       "    <tr>\n",
       "      <th>999996</th>\n",
       "      <td>COMP24</td>\n",
       "      <td>CTO</td>\n",
       "      <td>HIGH_SCHOOL</td>\n",
       "      <td>NONE</td>\n",
       "      <td>FINANCE</td>\n",
       "      <td>12</td>\n",
       "      <td>35</td>\n",
       "      <td>160</td>\n",
       "      <td>38</td>\n",
       "      <td>7</td>\n",
       "      <td>2</td>\n",
       "      <td>1</td>\n",
       "      <td>6</td>\n",
       "      <td>3</td>\n",
       "      <td>7</td>\n",
       "    </tr>\n",
       "    <tr>\n",
       "      <th>999997</th>\n",
       "      <td>COMP23</td>\n",
       "      <td>JUNIOR</td>\n",
       "      <td>HIGH_SCHOOL</td>\n",
       "      <td>NONE</td>\n",
       "      <td>EDUCATION</td>\n",
       "      <td>16</td>\n",
       "      <td>81</td>\n",
       "      <td>64</td>\n",
       "      <td>46</td>\n",
       "      <td>2</td>\n",
       "      <td>2</td>\n",
       "      <td>1</td>\n",
       "      <td>1</td>\n",
       "      <td>4</td>\n",
       "      <td>2</td>\n",
       "    </tr>\n",
       "    <tr>\n",
       "      <th>999998</th>\n",
       "      <td>COMP3</td>\n",
       "      <td>CFO</td>\n",
       "      <td>MASTERS</td>\n",
       "      <td>NONE</td>\n",
       "      <td>HEALTH</td>\n",
       "      <td>6</td>\n",
       "      <td>5</td>\n",
       "      <td>149</td>\n",
       "      <td>39</td>\n",
       "      <td>6</td>\n",
       "      <td>4</td>\n",
       "      <td>1</td>\n",
       "      <td>4</td>\n",
       "      <td>2</td>\n",
       "      <td>10</td>\n",
       "    </tr>\n",
       "    <tr>\n",
       "      <th>999999</th>\n",
       "      <td>COMP59</td>\n",
       "      <td>JUNIOR</td>\n",
       "      <td>BACHELORS</td>\n",
       "      <td>NONE</td>\n",
       "      <td>EDUCATION</td>\n",
       "      <td>20</td>\n",
       "      <td>11</td>\n",
       "      <td>88</td>\n",
       "      <td>16</td>\n",
       "      <td>2</td>\n",
       "      <td>3</td>\n",
       "      <td>1</td>\n",
       "      <td>1</td>\n",
       "      <td>5</td>\n",
       "      <td>9</td>\n",
       "    </tr>\n",
       "  </tbody>\n",
       "</table>\n",
       "<p>999809 rows × 15 columns</p>\n",
       "</div>"
      ],
      "text/plain": [
       "       companyId         jobType       degree      major   industry  \\\n",
       "0         COMP37             CFO      MASTERS       MATH     HEALTH   \n",
       "1         COMP19             CEO  HIGH_SCHOOL       NONE        WEB   \n",
       "2         COMP52  VICE_PRESIDENT     DOCTORAL    PHYSICS     HEALTH   \n",
       "3         COMP38         MANAGER     DOCTORAL  CHEMISTRY       AUTO   \n",
       "4          COMP7  VICE_PRESIDENT    BACHELORS    PHYSICS    FINANCE   \n",
       "...          ...             ...          ...        ...        ...   \n",
       "999995    COMP56  VICE_PRESIDENT    BACHELORS  CHEMISTRY     HEALTH   \n",
       "999996    COMP24             CTO  HIGH_SCHOOL       NONE    FINANCE   \n",
       "999997    COMP23          JUNIOR  HIGH_SCHOOL       NONE  EDUCATION   \n",
       "999998     COMP3             CFO      MASTERS       NONE     HEALTH   \n",
       "999999    COMP59          JUNIOR    BACHELORS       NONE  EDUCATION   \n",
       "\n",
       "        yearsExperience  milesFromMetropolis  salary  companyId_cat  \\\n",
       "0                    10                   83     130              1   \n",
       "1                     3                   73     101             11   \n",
       "2                    10                   38     137             43   \n",
       "3                     8                   17     142             40   \n",
       "4                     8                   16     163             18   \n",
       "...                 ...                  ...     ...            ...   \n",
       "999995               19                   94      88             36   \n",
       "999996               12                   35     160             38   \n",
       "999997               16                   81      64             46   \n",
       "999998                6                    5     149             39   \n",
       "999999               20                   11      88             16   \n",
       "\n",
       "        jobType_cat  degree_cat  major_cat  industry_cat  yearsExp_cat  \\\n",
       "0                 6           4          7             4             3   \n",
       "1                 8           2          1             5             1   \n",
       "2                 5           5          5             4             3   \n",
       "3                 4           5          4             3             2   \n",
       "4                 5           3          5             6             2   \n",
       "...             ...         ...        ...           ...           ...   \n",
       "999995            5           3          4             4             5   \n",
       "999996            7           2          1             6             3   \n",
       "999997            2           2          1             1             4   \n",
       "999998            6           4          1             4             2   \n",
       "999999            2           3          1             1             5   \n",
       "\n",
       "        mfm_cat  \n",
       "0             2  \n",
       "1             3  \n",
       "2             7  \n",
       "3             9  \n",
       "4             9  \n",
       "...         ...  \n",
       "999995        1  \n",
       "999996        7  \n",
       "999997        2  \n",
       "999998       10  \n",
       "999999        9  \n",
       "\n",
       "[999809 rows x 15 columns]"
      ]
     },
     "execution_count": 14,
     "metadata": {},
     "output_type": "execute_result"
    }
   ],
   "source": [
    "prepoc_train_data"
   ]
  },
  {
   "cell_type": "markdown",
   "metadata": {},
   "source": [
    "Baseline model - Linear Regression"
   ]
  },
  {
   "cell_type": "code",
   "execution_count": 37,
   "metadata": {
    "scrolled": true
   },
   "outputs": [
    {
     "data": {
      "image/png": "[encoded data removed]",
      "text/plain": [
       "<Figure size 720x720 with 1 Axes>"
      ]
     },
     "metadata": {
      "needs_background": "light"
     },
     "output_type": "display_data"
    }
   ],
   "source": [
    "poly_reg(prepoc_train_data,  'salary', [1,2,3],  num_features = 'auto', test_sample = 'auto')"
   ]
  },
  {
   "cell_type": "markdown",
   "metadata": {},
   "source": [
    "The results show that there is a much bigger reduction in MSE(about 28units) from a 1st order polynomial to a 2nd order polynomial\n",
    "than from a 2nd order polynomial to  3rd order polynomial (less than 5units). This suggests than higher order polynomial will\n",
    "will result in little improvement in MSE but will take a lot of computational effort"
   ]
  },
  {
   "cell_type": "markdown",
   "metadata": {},
   "source": [
    " #### Comparing Tree and Ensemble models (Decision Tree, Random Forest, Gradient Boost and Xtreme Gradient Boost)"
   ]
  },
  {
   "cell_type": "code",
   "execution_count": 8,
   "metadata": {
    "scrolled": true
   },
   "outputs": [
    {
     "name": "stdout",
     "output_type": "stream",
     "text": [
      "MODEL MSEs\n",
      "Dec_tree ---> 388.052588811057\n",
      "rand_forest ---> 364.64057649194257\n",
      "gradient_boost ---> 356.72270490874405\n",
      "xtreme_grad_boost ---> 355.155823125185\n",
      "\n",
      " Best model ---->  xtreme_grad_boost   (saved as: saved_best_model)\n"
     ]
    },
    {
     "data": {
      "image/png": "[encoded data removed]",
      "text/plain": [
       "<Figure size 576x576 with 1 Axes>"
      ]
     },
     "metadata": {
      "needs_background": "light"
     },
     "output_type": "display_data"
    },
    {
     "data": {
      "text/plain": [
       "XGBRegressor(base_score=0.5, booster='gbtree', colsample_bylevel=1,\n",
       "             colsample_bynode=1, colsample_bytree=0.8, gamma=0, gpu_id=-1,\n",
       "             importance_type='gain', interaction_constraints='',\n",
       "             learning_rate=0.09, max_delta_step=0, max_depth=8,\n",
       "             min_child_weight=8, missing=nan, monotone_constraints='()',\n",
       "             n_estimators=100, n_jobs=-1, num_parallel_tree=1, random_state=2,\n",
       "             reg_alpha=20, reg_lambda=1, scale_pos_weight=1, subsample=1,\n",
       "             tree_method='exact', validate_parameters=1, verbosity=None)"
      ]
     },
     "execution_count": 8,
     "metadata": {},
     "output_type": "execute_result"
    }
   ],
   "source": [
    "best_model_mse(prepoc_train_data,  'salary',  num_features = 'auto', test_sample = 'auto')"
   ]
  },
  {
   "cell_type": "code",
   "execution_count": null,
   "metadata": {},
   "outputs": [],
   "source": []
  }
 ],
 "metadata": {
  "kernelspec": {
   "display_name": "Python 3 (ipykernel)",
   "language": "python",
   "name": "python3"
  },
  "language_info": {
   "codemirror_mode": {
    "name": "ipython",
    "version": 3
   },
   "file_extension": ".py",
   "mimetype": "text/x-python",
   "name": "python",
   "nbconvert_exporter": "python",
   "pygments_lexer": "ipython3",
   "version": "3.8.12"
  }
 },
 "nbformat": 4,
 "nbformat_minor": 4
}
